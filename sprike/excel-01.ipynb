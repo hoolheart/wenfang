{
 "cells": [
  {
   "cell_type": "code",
   "execution_count": 1,
   "metadata": {},
   "outputs": [
    {
     "name": "stdout",
     "output_type": "stream",
     "text": [
      "Import openpyxl V3.0.10\n"
     ]
    }
   ],
   "source": [
    "import openpyxl\n",
    "import faker\n",
    "\n",
    "print(f'Import openpyxl V{openpyxl.__version__}')\n",
    "fake = faker.Faker(locale='zh_CN')"
   ]
  },
  {
   "cell_type": "code",
   "execution_count": 2,
   "metadata": {},
   "outputs": [],
   "source": [
    "wb = openpyxl.Workbook(write_only=True) # create a new excel workbook\n",
    "basic = wb.create_sheet('Basic') # create basic info sheet\n",
    "addr = wb.create_sheet('Address') # create address sheet"
   ]
  },
  {
   "cell_type": "code",
   "execution_count": 3,
   "metadata": {},
   "outputs": [
    {
     "name": "stdout",
     "output_type": "stream",
     "text": [
      "prepare data\n"
     ]
    }
   ],
   "source": [
    "print('prepare data')\n",
    "\n",
    "fake_people = [\n",
    "    ['id', 'name', 'city', 'company', 'job', 'phone_number', 'post_code', 'time'],\n",
    "] + [\n",
    "    [i+1, fake.name(), fake.city(), fake.company(), fake.job(), fake.phone_number(), fake.postcode(), fake.iso8601()] for i in range(1000)\n",
    "]\n",
    "\n",
    "addresses = [\n",
    "    ['id', 'address'],\n",
    "] + [\n",
    "    [i+1, fake.address()] for i in range(1000)\n",
    "]"
   ]
  },
  {
   "cell_type": "code",
   "execution_count": 4,
   "metadata": {},
   "outputs": [
    {
     "name": "stdout",
     "output_type": "stream",
     "text": [
      "add data into sheets\n"
     ]
    }
   ],
   "source": [
    "print('add data into sheets')\n",
    "\n",
    "for row in fake_people:\n",
    "    basic.append(row)\n",
    "\n",
    "for row in addresses:\n",
    "    addr.append(row)"
   ]
  },
  {
   "cell_type": "code",
   "execution_count": 5,
   "metadata": {},
   "outputs": [
    {
     "name": "stdout",
     "output_type": "stream",
     "text": [
      "Save to people.xlsx\n"
     ]
    }
   ],
   "source": [
    "wb.save('people.xlsx')\n",
    "print('Save to people.xlsx')"
   ]
  },
  {
   "cell_type": "code",
   "execution_count": 6,
   "metadata": {},
   "outputs": [
    {
     "name": "stdout",
     "output_type": "stream",
     "text": [
      "Import pandas V1.5.2 to read excel file\n"
     ]
    }
   ],
   "source": [
    "import pandas as pd\n",
    "\n",
    "print(f'Import pandas V{pd.__version__} to read excel file')"
   ]
  },
  {
   "cell_type": "code",
   "execution_count": 7,
   "metadata": {},
   "outputs": [],
   "source": [
    "basic_info = pd.read_excel('people.xlsx', sheet_name='Basic')\n",
    "addr_info = pd.read_excel('people.xlsx', sheet_name='Address')"
   ]
  },
  {
   "cell_type": "code",
   "execution_count": 8,
   "metadata": {},
   "outputs": [
    {
     "data": {
      "text/html": [
       "<div>\n",
       "<style scoped>\n",
       "    .dataframe tbody tr th:only-of-type {\n",
       "        vertical-align: middle;\n",
       "    }\n",
       "\n",
       "    .dataframe tbody tr th {\n",
       "        vertical-align: top;\n",
       "    }\n",
       "\n",
       "    .dataframe thead th {\n",
       "        text-align: right;\n",
       "    }\n",
       "</style>\n",
       "<table border=\"1\" class=\"dataframe\">\n",
       "  <thead>\n",
       "    <tr style=\"text-align: right;\">\n",
       "      <th></th>\n",
       "      <th>id</th>\n",
       "      <th>name</th>\n",
       "      <th>city</th>\n",
       "      <th>company</th>\n",
       "      <th>job</th>\n",
       "      <th>phone_number</th>\n",
       "      <th>post_code</th>\n",
       "      <th>time</th>\n",
       "    </tr>\n",
       "  </thead>\n",
       "  <tbody>\n",
       "    <tr>\n",
       "      <th>0</th>\n",
       "      <td>1</td>\n",
       "      <td>李宁</td>\n",
       "      <td>秀华县</td>\n",
       "      <td>恒聪百汇传媒有限公司</td>\n",
       "      <td>项目执行/协调人员</td>\n",
       "      <td>13749651862</td>\n",
       "      <td>105226</td>\n",
       "      <td>2014-02-14T04:19:16</td>\n",
       "    </tr>\n",
       "    <tr>\n",
       "      <th>1</th>\n",
       "      <td>2</td>\n",
       "      <td>王志强</td>\n",
       "      <td>娟市</td>\n",
       "      <td>数字100科技有限公司</td>\n",
       "      <td>收货员</td>\n",
       "      <td>13073879116</td>\n",
       "      <td>758674</td>\n",
       "      <td>2005-05-03T02:46:52</td>\n",
       "    </tr>\n",
       "    <tr>\n",
       "      <th>2</th>\n",
       "      <td>3</td>\n",
       "      <td>康琳</td>\n",
       "      <td>涛市</td>\n",
       "      <td>商软冠联传媒有限公司</td>\n",
       "      <td>猎头/人才中介</td>\n",
       "      <td>18612926156</td>\n",
       "      <td>663199</td>\n",
       "      <td>1999-12-30T00:54:12</td>\n",
       "    </tr>\n",
       "    <tr>\n",
       "      <th>3</th>\n",
       "      <td>4</td>\n",
       "      <td>卢颖</td>\n",
       "      <td>福州县</td>\n",
       "      <td>通际名联网络有限公司</td>\n",
       "      <td>家用电器/数码产品研发</td>\n",
       "      <td>15096927123</td>\n",
       "      <td>492538</td>\n",
       "      <td>1988-11-17T07:28:52</td>\n",
       "    </tr>\n",
       "    <tr>\n",
       "      <th>4</th>\n",
       "      <td>5</td>\n",
       "      <td>邹鑫</td>\n",
       "      <td>杭州市</td>\n",
       "      <td>华成育卓传媒有限公司</td>\n",
       "      <td>医疗器械销售代表</td>\n",
       "      <td>18995281613</td>\n",
       "      <td>533199</td>\n",
       "      <td>1971-09-09T22:58:01</td>\n",
       "    </tr>\n",
       "  </tbody>\n",
       "</table>\n",
       "</div>"
      ],
      "text/plain": [
       "   id name city      company          job  phone_number  post_code  \\\n",
       "0   1   李宁  秀华县   恒聪百汇传媒有限公司    项目执行/协调人员   13749651862     105226   \n",
       "1   2  王志强   娟市  数字100科技有限公司          收货员   13073879116     758674   \n",
       "2   3   康琳   涛市   商软冠联传媒有限公司      猎头/人才中介   18612926156     663199   \n",
       "3   4   卢颖  福州县   通际名联网络有限公司  家用电器/数码产品研发   15096927123     492538   \n",
       "4   5   邹鑫  杭州市   华成育卓传媒有限公司     医疗器械销售代表   18995281613     533199   \n",
       "\n",
       "                  time  \n",
       "0  2014-02-14T04:19:16  \n",
       "1  2005-05-03T02:46:52  \n",
       "2  1999-12-30T00:54:12  \n",
       "3  1988-11-17T07:28:52  \n",
       "4  1971-09-09T22:58:01  "
      ]
     },
     "execution_count": 8,
     "metadata": {},
     "output_type": "execute_result"
    }
   ],
   "source": [
    "basic_info.head()"
   ]
  },
  {
   "cell_type": "code",
   "execution_count": 9,
   "metadata": {},
   "outputs": [
    {
     "data": {
      "text/html": [
       "<div>\n",
       "<style scoped>\n",
       "    .dataframe tbody tr th:only-of-type {\n",
       "        vertical-align: middle;\n",
       "    }\n",
       "\n",
       "    .dataframe tbody tr th {\n",
       "        vertical-align: top;\n",
       "    }\n",
       "\n",
       "    .dataframe thead th {\n",
       "        text-align: right;\n",
       "    }\n",
       "</style>\n",
       "<table border=\"1\" class=\"dataframe\">\n",
       "  <thead>\n",
       "    <tr style=\"text-align: right;\">\n",
       "      <th></th>\n",
       "      <th>id</th>\n",
       "      <th>address</th>\n",
       "    </tr>\n",
       "  </thead>\n",
       "  <tbody>\n",
       "    <tr>\n",
       "      <th>0</th>\n",
       "      <td>1</td>\n",
       "      <td>湖北省马鞍山市六枝特昆明路B座 559185</td>\n",
       "    </tr>\n",
       "    <tr>\n",
       "      <th>1</th>\n",
       "      <td>2</td>\n",
       "      <td>北京市龙市海陵陈街p座 310672</td>\n",
       "    </tr>\n",
       "    <tr>\n",
       "      <th>2</th>\n",
       "      <td>3</td>\n",
       "      <td>上海市石家庄市六枝特徐街U座 522790</td>\n",
       "    </tr>\n",
       "    <tr>\n",
       "      <th>3</th>\n",
       "      <td>4</td>\n",
       "      <td>北京市银川县西夏万街p座 905765</td>\n",
       "    </tr>\n",
       "    <tr>\n",
       "      <th>4</th>\n",
       "      <td>5</td>\n",
       "      <td>宁夏回族自治区东莞市长寿西宁路w座 883356</td>\n",
       "    </tr>\n",
       "  </tbody>\n",
       "</table>\n",
       "</div>"
      ],
      "text/plain": [
       "   id                   address\n",
       "0   1    湖北省马鞍山市六枝特昆明路B座 559185\n",
       "1   2        北京市龙市海陵陈街p座 310672\n",
       "2   3     上海市石家庄市六枝特徐街U座 522790\n",
       "3   4       北京市银川县西夏万街p座 905765\n",
       "4   5  宁夏回族自治区东莞市长寿西宁路w座 883356"
      ]
     },
     "execution_count": 9,
     "metadata": {},
     "output_type": "execute_result"
    }
   ],
   "source": [
    "addr_info.head()"
   ]
  },
  {
   "cell_type": "code",
   "execution_count": 10,
   "metadata": {},
   "outputs": [
    {
     "name": "stdout",
     "output_type": "stream",
     "text": [
      "merge and save to new file\n"
     ]
    },
    {
     "data": {
      "text/html": [
       "<div>\n",
       "<style scoped>\n",
       "    .dataframe tbody tr th:only-of-type {\n",
       "        vertical-align: middle;\n",
       "    }\n",
       "\n",
       "    .dataframe tbody tr th {\n",
       "        vertical-align: top;\n",
       "    }\n",
       "\n",
       "    .dataframe thead th {\n",
       "        text-align: right;\n",
       "    }\n",
       "</style>\n",
       "<table border=\"1\" class=\"dataframe\">\n",
       "  <thead>\n",
       "    <tr style=\"text-align: right;\">\n",
       "      <th></th>\n",
       "      <th>id</th>\n",
       "      <th>name</th>\n",
       "      <th>city</th>\n",
       "      <th>company</th>\n",
       "      <th>job</th>\n",
       "      <th>phone_number</th>\n",
       "      <th>post_code</th>\n",
       "      <th>time</th>\n",
       "      <th>address</th>\n",
       "    </tr>\n",
       "  </thead>\n",
       "  <tbody>\n",
       "    <tr>\n",
       "      <th>0</th>\n",
       "      <td>1</td>\n",
       "      <td>李宁</td>\n",
       "      <td>秀华县</td>\n",
       "      <td>恒聪百汇传媒有限公司</td>\n",
       "      <td>项目执行/协调人员</td>\n",
       "      <td>13749651862</td>\n",
       "      <td>105226</td>\n",
       "      <td>2014-02-14T04:19:16</td>\n",
       "      <td>湖北省马鞍山市六枝特昆明路B座 559185</td>\n",
       "    </tr>\n",
       "    <tr>\n",
       "      <th>1</th>\n",
       "      <td>2</td>\n",
       "      <td>王志强</td>\n",
       "      <td>娟市</td>\n",
       "      <td>数字100科技有限公司</td>\n",
       "      <td>收货员</td>\n",
       "      <td>13073879116</td>\n",
       "      <td>758674</td>\n",
       "      <td>2005-05-03T02:46:52</td>\n",
       "      <td>北京市龙市海陵陈街p座 310672</td>\n",
       "    </tr>\n",
       "    <tr>\n",
       "      <th>2</th>\n",
       "      <td>3</td>\n",
       "      <td>康琳</td>\n",
       "      <td>涛市</td>\n",
       "      <td>商软冠联传媒有限公司</td>\n",
       "      <td>猎头/人才中介</td>\n",
       "      <td>18612926156</td>\n",
       "      <td>663199</td>\n",
       "      <td>1999-12-30T00:54:12</td>\n",
       "      <td>上海市石家庄市六枝特徐街U座 522790</td>\n",
       "    </tr>\n",
       "    <tr>\n",
       "      <th>3</th>\n",
       "      <td>4</td>\n",
       "      <td>卢颖</td>\n",
       "      <td>福州县</td>\n",
       "      <td>通际名联网络有限公司</td>\n",
       "      <td>家用电器/数码产品研发</td>\n",
       "      <td>15096927123</td>\n",
       "      <td>492538</td>\n",
       "      <td>1988-11-17T07:28:52</td>\n",
       "      <td>北京市银川县西夏万街p座 905765</td>\n",
       "    </tr>\n",
       "    <tr>\n",
       "      <th>4</th>\n",
       "      <td>5</td>\n",
       "      <td>邹鑫</td>\n",
       "      <td>杭州市</td>\n",
       "      <td>华成育卓传媒有限公司</td>\n",
       "      <td>医疗器械销售代表</td>\n",
       "      <td>18995281613</td>\n",
       "      <td>533199</td>\n",
       "      <td>1971-09-09T22:58:01</td>\n",
       "      <td>宁夏回族自治区东莞市长寿西宁路w座 883356</td>\n",
       "    </tr>\n",
       "  </tbody>\n",
       "</table>\n",
       "</div>"
      ],
      "text/plain": [
       "   id name city      company          job  phone_number  post_code  \\\n",
       "0   1   李宁  秀华县   恒聪百汇传媒有限公司    项目执行/协调人员   13749651862     105226   \n",
       "1   2  王志强   娟市  数字100科技有限公司          收货员   13073879116     758674   \n",
       "2   3   康琳   涛市   商软冠联传媒有限公司      猎头/人才中介   18612926156     663199   \n",
       "3   4   卢颖  福州县   通际名联网络有限公司  家用电器/数码产品研发   15096927123     492538   \n",
       "4   5   邹鑫  杭州市   华成育卓传媒有限公司     医疗器械销售代表   18995281613     533199   \n",
       "\n",
       "                  time                   address  \n",
       "0  2014-02-14T04:19:16    湖北省马鞍山市六枝特昆明路B座 559185  \n",
       "1  2005-05-03T02:46:52        北京市龙市海陵陈街p座 310672  \n",
       "2  1999-12-30T00:54:12     上海市石家庄市六枝特徐街U座 522790  \n",
       "3  1988-11-17T07:28:52       北京市银川县西夏万街p座 905765  \n",
       "4  1971-09-09T22:58:01  宁夏回族自治区东莞市长寿西宁路w座 883356  "
      ]
     },
     "execution_count": 10,
     "metadata": {},
     "output_type": "execute_result"
    }
   ],
   "source": [
    "print('merge and save to new file')\n",
    "merged = basic_info.merge(addr_info, how='left', on='id')\n",
    "merged.head()"
   ]
  },
  {
   "cell_type": "code",
   "execution_count": 11,
   "metadata": {},
   "outputs": [],
   "source": [
    "merged.set_index('id').to_excel('merged_pepple.xlsx', sheet_name='People')"
   ]
  },
  {
   "cell_type": "code",
   "execution_count": null,
   "metadata": {},
   "outputs": [],
   "source": []
  }
 ],
 "metadata": {
  "kernelspec": {
   "display_name": "office",
   "language": "python",
   "name": "python3"
  },
  "language_info": {
   "codemirror_mode": {
    "name": "ipython",
    "version": 3
   },
   "file_extension": ".py",
   "mimetype": "text/x-python",
   "name": "python",
   "nbconvert_exporter": "python",
   "pygments_lexer": "ipython3",
   "version": "3.9.16"
  },
  "orig_nbformat": 4,
  "vscode": {
   "interpreter": {
    "hash": "a274f96a18d15b1c4a782a0b2f996f220ce21af4de2149cbb3967b4cf8a8a50b"
   }
  }
 },
 "nbformat": 4,
 "nbformat_minor": 2
}
