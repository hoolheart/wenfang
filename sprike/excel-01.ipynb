{
 "cells": [
  {
   "cell_type": "code",
   "execution_count": 1,
   "metadata": {},
   "outputs": [
    {
     "name": "stdout",
     "output_type": "stream",
     "text": [
      "Import openpyxl V3.0.10\n"
     ]
    }
   ],
   "source": [
    "import openpyxl\n",
    "import faker\n",
    "\n",
    "\n",
    "print(f'Import openpyxl V{openpyxl.__version__}')\n",
    "fake = faker.Faker(locale='zh_CN')"
   ]
  },
  {
   "cell_type": "code",
   "execution_count": 2,
   "metadata": {},
   "outputs": [
    {
     "name": "stdout",
     "output_type": "stream",
     "text": [
      "Current active sheet: Sheet1\n"
     ]
    }
   ],
   "source": [
    "wb = openpyxl.Workbook() # create a new excel workbook\n",
    "ws = wb.active # get active sheet\n",
    "ws.title = 'Sheet1'\n",
    "\n",
    "print(f'Current active sheet: {ws.title}')\n"
   ]
  },
  {
   "cell_type": "code",
   "execution_count": 3,
   "metadata": {},
   "outputs": [
    {
     "name": "stdout",
     "output_type": "stream",
     "text": [
      "Write column titles\n",
      "Title of column 3: company\n"
     ]
    }
   ],
   "source": [
    "print('Write column titles')\n",
    "columns = ('name', 'city', 'company', 'job', 'phone_number', 'post_code', 'time')\n",
    "for i in range(len(columns)):\n",
    "    ws.cell(row=1, column=i+1).value = columns[i]\n",
    "\n",
    "print(f'Title of column 3: {ws.cell(row=1, column=3).value}')"
   ]
  },
  {
   "cell_type": "code",
   "execution_count": 4,
   "metadata": {},
   "outputs": [
    {
     "name": "stdout",
     "output_type": "stream",
     "text": [
      "Fill the content\n",
      "Content of row 37, column 4: 木工\n"
     ]
    }
   ],
   "source": [
    "for i in range(100):\n",
    "    ws.cell(row=i+2, column=1).value = fake.name() # name\n",
    "    ws.cell(row=i+2, column=2).value = fake.city() # city\n",
    "    ws.cell(row=i+2, column=3).value = fake.company() # company\n",
    "    ws.cell(row=i+2, column=4).value = fake.job() # job\n",
    "    ws.cell(row=i+2, column=5).value = fake.phone_number() # phone_number\n",
    "    ws.cell(row=i+2, column=6).value = fake.postcode() # post_code\n",
    "    ws.cell(row=i+2, column=7).value = fake.iso8601() # time\n",
    "\n",
    "print('Fill the content')\n",
    "print(f'Content of row 37, column 4: {ws.cell(row=37, column=4).value}')"
   ]
  },
  {
   "cell_type": "code",
   "execution_count": 5,
   "metadata": {},
   "outputs": [
    {
     "name": "stdout",
     "output_type": "stream",
     "text": [
      "Save to people.xlsx\n"
     ]
    }
   ],
   "source": [
    "wb.save('people.xlsx')\n",
    "print('Save to people.xlsx')"
   ]
  },
  {
   "cell_type": "code",
   "execution_count": null,
   "metadata": {},
   "outputs": [],
   "source": []
  }
 ],
 "metadata": {
  "kernelspec": {
   "display_name": "office",
   "language": "python",
   "name": "python3"
  },
  "language_info": {
   "codemirror_mode": {
    "name": "ipython",
    "version": 3
   },
   "file_extension": ".py",
   "mimetype": "text/x-python",
   "name": "python",
   "nbconvert_exporter": "python",
   "pygments_lexer": "ipython3",
   "version": "3.9.16"
  },
  "orig_nbformat": 4,
  "vscode": {
   "interpreter": {
    "hash": "a274f96a18d15b1c4a782a0b2f996f220ce21af4de2149cbb3967b4cf8a8a50b"
   }
  }
 },
 "nbformat": 4,
 "nbformat_minor": 2
}
