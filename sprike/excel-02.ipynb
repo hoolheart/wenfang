{
 "cells": [
  {
   "cell_type": "code",
   "execution_count": 1,
   "metadata": {},
   "outputs": [],
   "source": [
    "import pandas as pd\n",
    "from wenfang.excel import (\n",
    "    get_sheets_to_dataframes,\n",
    "    save_dataframes_to_excel,\n",
    ")"
   ]
  },
  {
   "cell_type": "code",
   "execution_count": 2,
   "metadata": {},
   "outputs": [],
   "source": [
    "df_dict = get_sheets_to_dataframes('people.xlsx')"
   ]
  },
  {
   "cell_type": "code",
   "execution_count": 3,
   "metadata": {},
   "outputs": [
    {
     "name": "stdout",
     "output_type": "stream",
     "text": [
      "Basic\n",
      "   id name city      company          job  phone_number  post_code  \\\n",
      "0   1   李宁  秀华县   恒聪百汇传媒有限公司    项目执行/协调人员   13749651862     105226   \n",
      "1   2  王志强   娟市  数字100科技有限公司          收货员   13073879116     758674   \n",
      "2   3   康琳   涛市   商软冠联传媒有限公司      猎头/人才中介   18612926156     663199   \n",
      "3   4   卢颖  福州县   通际名联网络有限公司  家用电器/数码产品研发   15096927123     492538   \n",
      "4   5   邹鑫  杭州市   华成育卓传媒有限公司     医疗器械销售代表   18995281613     533199   \n",
      "\n",
      "                  time  \n",
      "0  2014-02-14T04:19:16  \n",
      "1  2005-05-03T02:46:52  \n",
      "2  1999-12-30T00:54:12  \n",
      "3  1988-11-17T07:28:52  \n",
      "4  1971-09-09T22:58:01  \n",
      "\n",
      "Address\n",
      "   id                   address\n",
      "0   1    湖北省马鞍山市六枝特昆明路B座 559185\n",
      "1   2        北京市龙市海陵陈街p座 310672\n",
      "2   3     上海市石家庄市六枝特徐街U座 522790\n",
      "3   4       北京市银川县西夏万街p座 905765\n",
      "4   5  宁夏回族自治区东莞市长寿西宁路w座 883356\n",
      "\n"
     ]
    }
   ],
   "source": [
    "for title in df_dict:\n",
    "    print(title)\n",
    "    print(df_dict[title].head())\n",
    "    print()"
   ]
  },
  {
   "cell_type": "code",
   "execution_count": 4,
   "metadata": {},
   "outputs": [
    {
     "name": "stdout",
     "output_type": "stream",
     "text": [
      "3\n"
     ]
    }
   ],
   "source": [
    "import random\n",
    "\n",
    "df_dict['age'] = pd.DataFrame({\n",
    "    'id': df_dict['Basic'].id,\n",
    "    'age': [int(random.uniform(20, 60)) \n",
    "            for i in range(len(df_dict['Basic'].index))],\n",
    "})\n",
    "\n",
    "print(save_dataframes_to_excel('saved.xlsx', df_dict))"
   ]
  },
  {
   "cell_type": "code",
   "execution_count": null,
   "metadata": {},
   "outputs": [],
   "source": []
  }
 ],
 "metadata": {
  "kernelspec": {
   "display_name": "office",
   "language": "python",
   "name": "office"
  },
  "language_info": {
   "codemirror_mode": {
    "name": "ipython",
    "version": 3
   },
   "file_extension": ".py",
   "mimetype": "text/x-python",
   "name": "python",
   "nbconvert_exporter": "python",
   "pygments_lexer": "ipython3",
   "version": "3.9.16"
  },
  "orig_nbformat": 4
 },
 "nbformat": 4,
 "nbformat_minor": 2
}
